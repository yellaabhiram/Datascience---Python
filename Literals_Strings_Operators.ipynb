{
  "nbformat": 4,
  "nbformat_minor": 0,
  "metadata": {
    "colab": {
      "provenance": [],
      "authorship_tag": "ABX9TyNpg2Hjp7AfT1JLy9j2JHT3",
      "include_colab_link": true
    },
    "kernelspec": {
      "name": "python3",
      "display_name": "Python 3"
    },
    "language_info": {
      "name": "python"
    }
  },
  "cells": [
    {
      "cell_type": "markdown",
      "metadata": {
        "id": "view-in-github",
        "colab_type": "text"
      },
      "source": [
        "<a href=\"https://colab.research.google.com/github/yellaabhiram/Datascience---Python/blob/main/Literals_Strings_Operators.ipynb\" target=\"_parent\"><img src=\"https://colab.research.google.com/assets/colab-badge.svg\" alt=\"Open In Colab\"/></a>"
      ]
    },
    {
      "cell_type": "markdown",
      "source": [
        "# Literals\n",
        "\n"
      ],
      "metadata": {
        "id": "KUiQjHIbSv1r"
      }
    },
    {
      "cell_type": "code",
      "execution_count": 5,
      "metadata": {
        "colab": {
          "base_uri": "https://localhost:8080/"
        },
        "id": "I1p-lBr0-iCO",
        "outputId": "446fbbc2-6701-479c-ca33-1a4b9f4fd48f"
      },
      "outputs": [
        {
          "output_type": "stream",
          "name": "stdout",
          "text": [
            "10 100 200 300\n",
            "10.5 150.0 0.0015\n",
            "3.14j 3.14 0.0\n"
          ]
        }
      ],
      "source": [
        "# Literals\n",
        "\n",
        "a = 0b1010 #binary literals\n",
        "b = 100 #decimal literals\n",
        "c = 0o310 #octal literals\n",
        "d = 0x12c #hexadecimal literals\n",
        "\n",
        "# float literals\n",
        "float_1 = 10.5\n",
        "float_2 = 1.5e2 #10^2 (1.5 * 100)\n",
        "float_3 = 1.5e-3 #10^-3 (1.5 * -10000 = 00015)\n",
        "\n",
        "# complex literals\n",
        "x = 3.14j\n",
        "\n",
        "print(a,b,c,d)\n",
        "print(float_1, float_2, float_3)\n",
        "print(x,x.imag,x.real)\n"
      ]
    },
    {
      "cell_type": "markdown",
      "source": [
        "# Strings"
      ],
      "metadata": {
        "id": "xKJHZaDeS0s8"
      }
    },
    {
      "cell_type": "code",
      "source": [
        "#Strings\n",
        "\n",
        "string = \"this is python\"\n",
        "strings = 'this is python'\n",
        "char = \"c\"\n",
        "multiline_string = \"\"\"this is a multiline string with more than one line code\"\"\"\n",
        "unicode_string = u\"\\U0001f600\\U0001F606\\U0001F923\"\n",
        "raw_sring = r\"raw \\n string\"\n",
        "\n",
        "print(string)\n",
        "print(strings)\n",
        "print(char)\n",
        "print(multiline_string)\n",
        "print(unicode_string)\n",
        "print(raw_sring)\n",
        "print(gen_ai)\n",
        "gen_ai = \"\"\"At first glance, generative AI looks like pure magic. But once you start to peel back the layers behind this fascinating technology,\n",
        "you see it for what it is: a statistical process with both impressive results and critical limitations.\n",
        "In its broadest sense, generative AI is a type of artificial intelligence that creates novel content based on patterns\n",
        " learned from existing data. Perhaps the most obvious example of generative AI is predictive search. Google trains a large language model (LLM)\n",
        " on billions of search queries made by users over the years, which then tries to predict the next word in your own search query.\"\"\"\n"
      ],
      "metadata": {
        "colab": {
          "base_uri": "https://localhost:8080/"
        },
        "id": "T-LxLjCGOatB",
        "outputId": "493e9ff6-3160-4d53-be97-e7767f6a5ad3"
      },
      "execution_count": 7,
      "outputs": [
        {
          "output_type": "stream",
          "name": "stdout",
          "text": [
            "this is python\n",
            "this is python\n",
            "c\n",
            "this is a multiline string with more than one line code\n",
            "😀😆🤣\n",
            "raw \\n string\n",
            "At first glance, generative AI looks like pure magic. But once you start to peel back the layers behind this fascinating technology,\n",
            "you see it for what it is: a statistical process with both impressive results and critical limitations.\n",
            "In its broadest sense, generative AI is a type of artificial intelligence that creates novel content based on patterns\n",
            " learned from existing data. Perhaps the most obvious example of generative AI is predictive search. Google trains a large language model (LLM)\n",
            " on billions of search queries made by users over the years, which then tries to predict the next word in your own search query.\n"
          ]
        }
      ]
    },
    {
      "cell_type": "code",
      "source": [
        "name = input('your name lady : ')\n",
        "\n",
        "print(f\"love you  {name}\" u\"\\U0001f600\\U0001F606\\U0001F923\")\n"
      ],
      "metadata": {
        "colab": {
          "base_uri": "https://localhost:8080/"
        },
        "id": "ygeovnciOlHM",
        "outputId": "084a8686-62aa-43f8-fe61-7594c2079ca0"
      },
      "execution_count": 18,
      "outputs": [
        {
          "output_type": "stream",
          "name": "stdout",
          "text": [
            "your name lady : pavani\n",
            "love you  pavani😀😆🤣\n"
          ]
        }
      ]
    },
    {
      "cell_type": "code",
      "source": [
        "raw_sring = r\"raw \\n string\"\n",
        "print(raw_sring)\n",
        "path = r\"c:\\Users\\Name\\Documents\" # whenever you are definining something with \\ or characters\n",
        "# and you have some signifcance with them for example here we are defining some path which has \\ to be noticed"
      ],
      "metadata": {
        "colab": {
          "base_uri": "https://localhost:8080/"
        },
        "id": "y_OrmWkqPeq-",
        "outputId": "a3c7bc64-5e0e-4d26-e008-92465651b648"
      },
      "execution_count": 17,
      "outputs": [
        {
          "output_type": "stream",
          "name": "stdout",
          "text": [
            "raw \\n string\n"
          ]
        }
      ]
    },
    {
      "cell_type": "code",
      "source": [
        "a = True - 4 #True = 1 and False = 0\n",
        "b = False + 10\n",
        "\n",
        "print(\"a:\",a)\n",
        "print(\"b:\",b)"
      ],
      "metadata": {
        "colab": {
          "base_uri": "https://localhost:8080/"
        },
        "id": "IcNK-JFQQJB2",
        "outputId": "5b538da7-7979-4546-e129-882aa162c05a"
      },
      "execution_count": 19,
      "outputs": [
        {
          "output_type": "stream",
          "name": "stdout",
          "text": [
            "a: -3\n",
            "b: 10\n"
          ]
        }
      ]
    },
    {
      "cell_type": "code",
      "source": [
        "a = None\n",
        "print(a)\n",
        "\n",
        "k  =  _   # i have to fill this value in future as it is left blank\n",
        "a = 5\n",
        "print(a)\n",
        "b = 3\n",
        "print(\"run program\")"
      ],
      "metadata": {
        "colab": {
          "base_uri": "https://localhost:8080/"
        },
        "id": "uASi-9uEQapg",
        "outputId": "8ca06a9a-5a04-4f25-86ab-ea75ddbcdd00"
      },
      "execution_count": 20,
      "outputs": [
        {
          "output_type": "stream",
          "name": "stdout",
          "text": [
            "None\n",
            "5\n",
            "run program\n"
          ]
        }
      ]
    },
    {
      "cell_type": "markdown",
      "source": [
        "# operators\n",
        "# Arthematic Operators\n",
        "# Relational Operators\n",
        "# Logical Operators\n",
        "# Bitwise Operators\n",
        "# Assignment Operators\n",
        "# Menmbership Operators"
      ],
      "metadata": {
        "id": "aoI2tqaWS5rT"
      }
    },
    {
      "cell_type": "code",
      "source": [
        "# operators\n",
        "# Arthematic Operators\n",
        "# Relational Operators\n",
        "# Logical Operators\n",
        "# Bitwise Operators\n",
        "# Assignment Operators\n",
        "# Menmbership Operators"
      ],
      "metadata": {
        "id": "IqxcbdGvQpF8"
      },
      "execution_count": null,
      "outputs": []
    },
    {
      "cell_type": "code",
      "source": [
        "# arthematic\n",
        "print(5+6)\n",
        "\n",
        "print(5-6)\n",
        "\n",
        "print(5*6)\n",
        "\n",
        "print(5/6)\n",
        "\n",
        "print(7//6) # interger division, it converts the decial values into whole num\n",
        "\n",
        "print(10%6)   # modulus operator it will print the reminder of the operation\n",
        "print(5**6)   # power operator"
      ],
      "metadata": {
        "colab": {
          "base_uri": "https://localhost:8080/"
        },
        "id": "KNK_YyGWQsVk",
        "outputId": "7700d917-d788-4a3d-a726-6a71a222f277"
      },
      "execution_count": 23,
      "outputs": [
        {
          "output_type": "stream",
          "name": "stdout",
          "text": [
            "11\n",
            "-1\n",
            "30\n",
            "0.8333333333333334\n",
            "1\n",
            "4\n",
            "15625\n"
          ]
        }
      ]
    },
    {
      "cell_type": "code",
      "source": [
        "# relational opeators\n",
        "print(7>8)\n",
        "\n",
        "print(7<8)\n",
        "\n",
        "print(1<=6)\n",
        "\n",
        "print(2>=3)\n",
        "\n",
        "print(5==4)\n",
        "\n",
        "print(3!=2)"
      ],
      "metadata": {
        "colab": {
          "base_uri": "https://localhost:8080/"
        },
        "id": "eEjDrNRTR2HF",
        "outputId": "66823fc7-729b-49b7-8e86-1710bb6bf72f"
      },
      "execution_count": 26,
      "outputs": [
        {
          "output_type": "stream",
          "name": "stdout",
          "text": [
            "False\n",
            "True\n",
            "True\n",
            "False\n",
            "False\n",
            "True\n"
          ]
        }
      ]
    },
    {
      "cell_type": "code",
      "source": [
        "# logical operators and or\n",
        "print(1 and 0)\n",
        "\n",
        "print(1 or 0)\n",
        "\n",
        "print(not 0) #opposite for 0 as in boolean which is false for 0 , hence output value is True\n"
      ],
      "metadata": {
        "colab": {
          "base_uri": "https://localhost:8080/"
        },
        "id": "7ewJdhnsSD7o",
        "outputId": "d6dbbf6f-ace6-48d0-b9b3-b12fe28ff189"
      },
      "execution_count": 31,
      "outputs": [
        {
          "output_type": "stream",
          "name": "stdout",
          "text": [
            "0\n",
            "1\n",
            "True\n"
          ]
        }
      ]
    },
    {
      "cell_type": "code",
      "source": [
        "# bitwise operators\n",
        "print(2 & 3) #every operation is carried out after converting those number to binary format\n",
        "\n",
        "# bitwise or\n",
        "print(2 | 3)\n",
        "\n",
        "# bitwise xor\n",
        "print(2 ^ 3)\n",
        "\n",
        "# bitwise not\n",
        "print(~2)\n",
        "\n",
        "# bitwise left shift\n",
        "print(2 << 3)\n",
        "\n",
        "# bitwise right shift\n",
        "print(2 >> 3)"
      ],
      "metadata": {
        "colab": {
          "base_uri": "https://localhost:8080/"
        },
        "id": "jKsB9OjVSZTd",
        "outputId": "a28bafa1-dfc5-4fa7-c664-98048a66493c"
      },
      "execution_count": 32,
      "outputs": [
        {
          "output_type": "stream",
          "name": "stdout",
          "text": [
            "2\n",
            "3\n",
            "1\n",
            "-3\n",
            "16\n",
            "0\n"
          ]
        }
      ]
    },
    {
      "cell_type": "code",
      "source": [],
      "metadata": {
        "id": "bCUSo0EcSb2Z"
      },
      "execution_count": 31,
      "outputs": []
    }
  ]
}