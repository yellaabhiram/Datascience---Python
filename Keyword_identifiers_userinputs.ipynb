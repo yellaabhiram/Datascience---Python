{
  "nbformat": 4,
  "nbformat_minor": 0,
  "metadata": {
    "colab": {
      "provenance": [],
      "authorship_tag": "ABX9TyPWcazleBxs/T+OEnUEJRlY",
      "include_colab_link": true
    },
    "kernelspec": {
      "name": "python3",
      "display_name": "Python 3"
    },
    "language_info": {
      "name": "python"
    }
  },
  "cells": [
    {
      "cell_type": "markdown",
      "metadata": {
        "id": "view-in-github",
        "colab_type": "text"
      },
      "source": [
        "<a href=\"https://colab.research.google.com/github/yellaabhiram/Datascience---Python/blob/main/Keyword_identifiers_userinputs.ipynb\" target=\"_parent\"><img src=\"https://colab.research.google.com/assets/colab-badge.svg\" alt=\"Open In Colab\"/></a>"
      ]
    },
    {
      "cell_type": "code",
      "execution_count": 1,
      "metadata": {
        "id": "mrp10yGY1vuK"
      },
      "outputs": [],
      "source": [
        "## keywords and indetifiers\n"
      ]
    },
    {
      "cell_type": "code",
      "source": [
        "# python is a case senssative\n"
      ],
      "metadata": {
        "id": "UhTCQvXn2BtL"
      },
      "execution_count": null,
      "outputs": []
    },
    {
      "cell_type": "code",
      "source": [
        "#python is a case sensitive language - a and A are both considered different in below example\n",
        "\n",
        "a = 5\n",
        "A = 'string'\n",
        "\n",
        "print(a,A)\n"
      ],
      "metadata": {
        "colab": {
          "base_uri": "https://localhost:8080/"
        },
        "id": "7ZiXCWIj2GWK",
        "outputId": "281c8908-3baa-4b33-aa89-e954cea876df"
      },
      "execution_count": 4,
      "outputs": [
        {
          "output_type": "stream",
          "name": "stdout",
          "text": [
            "5 string\n"
          ]
        }
      ]
    },
    {
      "cell_type": "code",
      "source": [
        "#Keywords\n",
        "# In programming a keyword is a word that is reserved by a program because\n",
        "# the word has sepcial meaning, and these keywords cannot be used as a variable names\n",
        "import keyword\n",
        "\n",
        "list = print(keyword.kwlist) #list of available keywords\n",
        "list\n",
        "\n",
        "\n"
      ],
      "metadata": {
        "colab": {
          "base_uri": "https://localhost:8080/"
        },
        "id": "dnpJ5W8Z2ciG",
        "outputId": "610f5d7f-54c1-40e6-b38d-1a961d82b811"
      },
      "execution_count": 7,
      "outputs": [
        {
          "output_type": "stream",
          "name": "stdout",
          "text": [
            "['False', 'None', 'True', 'and', 'as', 'assert', 'async', 'await', 'break', 'class', 'continue', 'def', 'del', 'elif', 'else', 'except', 'finally', 'for', 'from', 'global', 'if', 'import', 'in', 'is', 'lambda', 'nonlocal', 'not', 'or', 'pass', 'raise', 'return', 'try', 'while', 'with', 'yield']\n"
          ]
        }
      ]
    },
    {
      "cell_type": "code",
      "source": [
        "none = 'value'\n",
        "print(none)\n"
      ],
      "metadata": {
        "colab": {
          "base_uri": "https://localhost:8080/"
        },
        "id": "kdrAo5JZ2gAG",
        "outputId": "7e83c674-1ef2-45f8-fdd9-52bdea3c73fe"
      },
      "execution_count": 9,
      "outputs": [
        {
          "output_type": "stream",
          "name": "stdout",
          "text": [
            "value\n"
          ]
        }
      ]
    },
    {
      "cell_type": "code",
      "source": [
        "None = 'cannot_be_used' # as None or and  are  keywords , hence cannot be used as a variables\n",
        "and = \"rfrf\"\n",
        "print(None,and)"
      ],
      "metadata": {
        "colab": {
          "base_uri": "https://localhost:8080/",
          "height": 106
        },
        "id": "RfXR7Fw33X6u",
        "outputId": "449920cc-060c-42e9-923e-55cc77ff7825"
      },
      "execution_count": 13,
      "outputs": [
        {
          "output_type": "error",
          "ename": "SyntaxError",
          "evalue": "cannot assign to None (<ipython-input-13-92ae38eef34b>, line 1)",
          "traceback": [
            "\u001b[0;36m  File \u001b[0;32m\"<ipython-input-13-92ae38eef34b>\"\u001b[0;36m, line \u001b[0;32m1\u001b[0m\n\u001b[0;31m    None = 'cannot_be_used' # as None is a keyword , hence cannot be used as a variable\u001b[0m\n\u001b[0m    ^\u001b[0m\n\u001b[0;31mSyntaxError\u001b[0m\u001b[0;31m:\u001b[0m cannot assign to None\n"
          ]
        }
      ]
    },
    {
      "cell_type": "code",
      "source": [
        "# identifier\n",
        "# is a name used to identify a variable ,funciton ,class ,module or any other object\n",
        "# an identfier cannot start with a number or special characters and can start only with an alphabet or _ (underscore)"
      ],
      "metadata": {
        "id": "LjHKjakG3az-"
      },
      "execution_count": 14,
      "outputs": []
    },
    {
      "cell_type": "code",
      "source": [
        "name = \"your name\" #(acceptable)\n",
        "_name = 'your didgit'\n",
        "name345 = 'yeas'"
      ],
      "metadata": {
        "id": "1k3oUxFW353f"
      },
      "execution_count": 20,
      "outputs": []
    },
    {
      "cell_type": "code",
      "source": [
        "@ = 'clear' #(not accecptable cases)\n",
        "234 = 'abc'"
      ],
      "metadata": {
        "colab": {
          "base_uri": "https://localhost:8080/",
          "height": 106
        },
        "id": "OKXlirgS4Ti2",
        "outputId": "42380baa-4aba-4fab-cccb-dfd7f48416f7"
      },
      "execution_count": 18,
      "outputs": [
        {
          "output_type": "error",
          "ename": "SyntaxError",
          "evalue": "cannot assign to literal here. Maybe you meant '==' instead of '='? (<ipython-input-18-06c22896863f>, line 2)",
          "traceback": [
            "\u001b[0;36m  File \u001b[0;32m\"<ipython-input-18-06c22896863f>\"\u001b[0;36m, line \u001b[0;32m2\u001b[0m\n\u001b[0;31m    234 = 'abc'\u001b[0m\n\u001b[0m    ^\u001b[0m\n\u001b[0;31mSyntaxError\u001b[0m\u001b[0;31m:\u001b[0m cannot assign to literal here. Maybe you meant '==' instead of '='?\n"
          ]
        }
      ]
    },
    {
      "cell_type": "code",
      "source": [
        "#Taking user input\n",
        "name = input('your name and age please:')\n",
        "print(f'thanks:{name}')"
      ],
      "metadata": {
        "colab": {
          "base_uri": "https://localhost:8080/"
        },
        "id": "7CsYTCGA4-JF",
        "outputId": "1fb3afa8-2d0c-4e63-f2c1-3084a0d25743"
      },
      "execution_count": 27,
      "outputs": [
        {
          "output_type": "stream",
          "name": "stdout",
          "text": [
            "your name and age please:ram 23\n",
            "thanks:ram 23\n"
          ]
        }
      ]
    },
    {
      "cell_type": "code",
      "source": [
        "type(name)"
      ],
      "metadata": {
        "colab": {
          "base_uri": "https://localhost:8080/"
        },
        "id": "rUU-tx9k5UKl",
        "outputId": "8c5e54c4-d5fb-4733-8b57-1c5c21234e69"
      },
      "execution_count": 28,
      "outputs": [
        {
          "output_type": "execute_result",
          "data": {
            "text/plain": [
              "str"
            ]
          },
          "metadata": {},
          "execution_count": 28
        }
      ]
    },
    {
      "cell_type": "code",
      "source": [
        "5 + 6+3j"
      ],
      "metadata": {
        "colab": {
          "base_uri": "https://localhost:8080/"
        },
        "id": "q4JRJ7q-79e_",
        "outputId": "069d0aa4-841b-490c-a725-d1434bb31702"
      },
      "execution_count": 29,
      "outputs": [
        {
          "output_type": "execute_result",
          "data": {
            "text/plain": [
              "(11+3j)"
            ]
          },
          "metadata": {},
          "execution_count": 29
        }
      ]
    },
    {
      "cell_type": "code",
      "source": [
        "int(9.7)"
      ],
      "metadata": {
        "colab": {
          "base_uri": "https://localhost:8080/"
        },
        "id": "MBzi86ns8Cud",
        "outputId": "63b4ea11-1f17-43ac-f5c8-be2fbb0bd467"
      },
      "execution_count": 30,
      "outputs": [
        {
          "output_type": "execute_result",
          "data": {
            "text/plain": [
              "9"
            ]
          },
          "metadata": {},
          "execution_count": 30
        }
      ]
    },
    {
      "cell_type": "code",
      "source": [
        "number = '1099'\n",
        "print(type(number))\n",
        "int(number)\n",
        "print(number)\n"
      ],
      "metadata": {
        "colab": {
          "base_uri": "https://localhost:8080/"
        },
        "id": "heF3ueVf8IGd",
        "outputId": "283ef09c-b5cc-4561-c814-b81bb7f576cd"
      },
      "execution_count": 33,
      "outputs": [
        {
          "output_type": "stream",
          "name": "stdout",
          "text": [
            "<class 'int'>\n",
            "1099\n"
          ]
        }
      ]
    },
    {
      "cell_type": "code",
      "source": [
        "float(8)\n"
      ],
      "metadata": {
        "colab": {
          "base_uri": "https://localhost:8080/"
        },
        "id": "n5u6wRFR8qiy",
        "outputId": "1db327f6-647a-4c1d-c044-409679c711a4"
      },
      "execution_count": 36,
      "outputs": [
        {
          "output_type": "execute_result",
          "data": {
            "text/plain": [
              "False"
            ]
          },
          "metadata": {},
          "execution_count": 36
        }
      ]
    },
    {
      "cell_type": "code",
      "source": [
        "bool(0)"
      ],
      "metadata": {
        "colab": {
          "base_uri": "https://localhost:8080/"
        },
        "id": "mgEv2oCV81Ld",
        "outputId": "f9bb8f67-1773-4524-a0eb-a57e5eb78afa"
      },
      "execution_count": 41,
      "outputs": [
        {
          "output_type": "execute_result",
          "data": {
            "text/plain": [
              "False"
            ]
          },
          "metadata": {},
          "execution_count": 41
        }
      ]
    },
    {
      "cell_type": "code",
      "source": [
        "a = 5.7\n",
        "b = int(a)\n",
        "print(b)"
      ],
      "metadata": {
        "colab": {
          "base_uri": "https://localhost:8080/"
        },
        "id": "YBz8PW-a9AgF",
        "outputId": "a2e7d444-ac7e-486d-bc8a-e4ed08ce47a4"
      },
      "execution_count": 43,
      "outputs": [
        {
          "output_type": "stream",
          "name": "stdout",
          "text": [
            "5.7\n"
          ]
        }
      ]
    }
  ]
}